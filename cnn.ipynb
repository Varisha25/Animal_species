{
 "cells": [
  {
   "cell_type": "markdown",
   "metadata": {},
   "source": [
    "Import all libraries"
   ]
  },
  {
   "cell_type": "code",
   "execution_count": 7,
   "metadata": {},
   "outputs": [],
   "source": [
    "import matplotlib\n",
    "import numpy as np\n",
    "import pandas as pd\n",
    "import seaborn as sns\n",
    "import matplotlib.pyplot as plt\n",
    "from glob import glob\n",
    "# %matplotlib inline"
   ]
  },
  {
   "cell_type": "code",
   "execution_count": 8,
   "metadata": {},
   "outputs": [
    {
     "name": "stdout",
     "output_type": "stream",
     "text": [
      "    Image_id           Animal\n",
      "0  Img-1.jpg     hippopotamus\n",
      "1  Img-2.jpg         squirrel\n",
      "2  Img-3.jpg     grizzly+bear\n",
      "3  Img-4.jpg               ox\n",
      "4  Img-5.jpg  german+shepherd\n"
     ]
    }
   ],
   "source": [
    "# Reading the train and test csv files\n",
    "train = pd.read_csv('C:/Users/elfyl/Documents/bioinformatics_and_systems_biology/machine_learning/beginner/train.csv')\n",
    "test = pd.read_csv('C:/Users/elfyl/Documents/bioinformatics_and_systems_biology/machine_learning/beginner/test.csv')\n",
    "\n",
    "print(train.head())"
   ]
  },
  {
   "cell_type": "code",
   "execution_count": 9,
   "metadata": {},
   "outputs": [
    {
     "name": "stdout",
     "output_type": "stream",
     "text": [
      "There are 13000 images in the train dataset.\n",
      "There are 6000 images in the test datasets.\n"
     ]
    }
   ],
   "source": [
    "# Number of images in the training and the test datasets.\n",
    "print('There are {} images in the train dataset.'.format(train.shape[0]))\n",
    "print('There are {} images in the test datasets.'.format(test.shape[0]))"
   ]
  },
  {
   "cell_type": "code",
   "execution_count": 10,
   "metadata": {},
   "outputs": [
    {
     "name": "stdout",
     "output_type": "stream",
     "text": [
      "There are 30 unique animals in the dataset.\n",
      "The dataset contain images of the following animals:\n",
      "\n",
      " ['hippopotamus' 'squirrel' 'grizzly+bear' 'ox' 'german+shepherd' 'buffalo'\n",
      " 'otter' 'bobcat' 'wolf' 'persian+cat' 'collie' 'antelope' 'seal'\n",
      " 'dalmatian' 'siamese+cat' 'moose' 'horse' 'killer+whale' 'mouse' 'walrus'\n",
      " 'beaver' 'rhinoceros' 'chimpanzee' 'weasel' 'spider+monkey' 'raccoon'\n",
      " 'rat' 'chihuahua' 'mole' 'bat']\n"
     ]
    }
   ],
   "source": [
    "# Number of unique animals in the datasets\n",
    "print('There are {} unique animals in the dataset.'.format(train.Animal.unique().shape[0]))\n",
    "print('The dataset contain images of the following animals:\\n\\n', train.Animal.unique())"
   ]
  },
  {
   "cell_type": "code",
   "execution_count": 11,
   "metadata": {},
   "outputs": [
    {
     "data": {
      "image/png": "[encoded data removed]",
      "text/plain": [
       "<Figure size 1080x576 with 1 Axes>"
      ]
     },
     "metadata": {
      "needs_background": "light"
     },
     "output_type": "display_data"
    }
   ],
   "source": [
    "animal_count = pd.value_counts(train.Animal)\n",
    "\n",
    "plt.figure(figsize=(15, 8))\n",
    "ax = sns.barplot(x=animal_count.index, y=animal_count.values)\n",
    "ax.set_xticklabels(ax.get_xticklabels(), rotation=90)\n",
    "ax.set_title('Frequency Distribution of the Animals in the Training Data')\n",
    "ax.set(xlabel='Animals', ylabel='Count')\n",
    "plt.show()"
   ]
  },
  {
   "cell_type": "code",
   "execution_count": 12,
   "metadata": {},
   "outputs": [
    {
     "data": {
      "text/plain": [
       "False"
      ]
     },
     "execution_count": 12,
     "metadata": {},
     "output_type": "execute_result"
    }
   ],
   "source": [
    "### Checking for any null values in the labels\n",
    "labels = train.Animal\n",
    "labels.isnull().any()"
   ]
  },
  {
   "cell_type": "code",
   "execution_count": 13,
   "metadata": {},
   "outputs": [],
   "source": [
    "### Train and Test image folder paths\n",
    "TRAIN_PATH = 'train/train/'\n",
    "TEST_PATH = 'test/test/'"
   ]
  },
  {
   "cell_type": "code",
   "execution_count": 20,
   "metadata": {},
   "outputs": [],
   "source": [
    "### Importing Python Image Library and Opencv library\n",
    "from PIL import Image\n",
    "import cv2"
   ]
  },
  {
   "cell_type": "code",
   "execution_count": 21,
   "metadata": {},
   "outputs": [
    {
     "name": "stdout",
     "output_type": "stream",
     "text": [
      "Animal:  collie\n"
     ]
    }
   ],
   "source": [
    "print('Animal: ', train.Animal[10])\n",
    "photo = Image.open(TRAIN_PATH + train.Image_id[10])\n",
    "photo.show()"
   ]
  },
  {
   "cell_type": "code",
   "execution_count": 22,
   "metadata": {},
   "outputs": [
    {
     "name": "stdout",
     "output_type": "stream",
     "text": [
      "[[[ 57  79 107]\n",
      "  [ 49  73 103]\n",
      "  [ 49  74 108]\n",
      "  ...\n",
      "  [ 26  46  77]\n",
      "  [ 48  93 126]\n",
      "  [100 138 168]]\n",
      "\n",
      " [[ 48  70  98]\n",
      "  [ 52  73 104]\n",
      "  [ 57  78 110]\n",
      "  ...\n",
      "  [ 16  34  63]\n",
      "  [ 67 112 139]\n",
      "  [116 157 180]]\n",
      "\n",
      " [[ 49  70  98]\n",
      "  [ 57  77 108]\n",
      "  [ 62  82 113]\n",
      "  ...\n",
      "  [ 33  49  78]\n",
      "  [ 48  91 118]\n",
      "  [ 85 126 149]]\n",
      "\n",
      " ...\n",
      "\n",
      " [[ 67  95 136]\n",
      "  [ 64  96 132]\n",
      "  [ 74 109 143]\n",
      "  ...\n",
      "  [ 92 137 175]\n",
      "  [112 155 188]\n",
      "  [106 149 176]]\n",
      "\n",
      " [[ 72 104 145]\n",
      "  [104 141 175]\n",
      "  [105 145 174]\n",
      "  ...\n",
      "  [100 148 182]\n",
      "  [112 156 187]\n",
      "  [110 149 177]]\n",
      "\n",
      " [[ 56  89 135]\n",
      "  [ 73 108 152]\n",
      "  [ 65  94 138]\n",
      "  ...\n",
      "  [ 99 143 180]\n",
      "  [111 156 190]\n",
      "  [110 151 184]]]\n"
     ]
    }
   ],
   "source": [
    "img = cv2.imread(TRAIN_PATH + train.Image_id[10])\n",
    "print(img)"
   ]
  },
  {
   "cell_type": "code",
   "execution_count": 23,
   "metadata": {},
   "outputs": [
    {
     "name": "stdout",
     "output_type": "stream",
     "text": [
      "(681, 1024, 3)\n"
     ]
    }
   ],
   "source": [
    "print(img.shape)"
   ]
  },
  {
   "cell_type": "code",
   "execution_count": 24,
   "metadata": {},
   "outputs": [
    {
     "name": "stdout",
     "output_type": "stream",
     "text": [
      "Img-1.jpg : (1024, 576, 3)\n",
      "Img-2.jpg : (771, 1024, 3)\n",
      "Img-3.jpg : (683, 1024, 3)\n",
      "Img-4.jpg : (681, 1024, 3)\n",
      "Img-5.jpg : (500, 332, 3)\n"
     ]
    }
   ],
   "source": [
    "### Displaying the image dimensions of the first five images in the training dataset.\n",
    "sample = train.head()\n",
    "for idx in sample.Image_id:\n",
    "    img = cv2.imread(TRAIN_PATH + idx)\n",
    "    print('{} : {}'.format(idx, img.shape))"
   ]
  },
  {
   "cell_type": "code",
   "execution_count": 25,
   "metadata": {},
   "outputs": [],
   "source": [
    "### Creating a function to resize the images in the training data.\n",
    "from tqdm import tqdm\n",
    "def read_img(img_path):\n",
    "    img = cv2.imread(img_path)\n",
    "    img = cv2.resize(img, (224, 224))\n",
    "    return img"
   ]
  },
  {
   "cell_type": "code",
   "execution_count": 26,
   "metadata": {},
   "outputs": [],
   "source": [
    "# temp = train.sample(frac=0.3)\n",
    "# train = temp.reset_index(drop=True)"
   ]
  },
  {
   "cell_type": "code",
   "execution_count": 27,
   "metadata": {},
   "outputs": [
    {
     "name": "stdout",
     "output_type": "stream",
     "text": [
      "Img-1.jpg : (224, 224, 3)\n"
     ]
    }
   ],
   "source": [
    "# Test resized on one photo -- works\n",
    "first_photo = 'Img-1.jpg'\n",
    "resized_first_photo = read_img(TEST_PATH + first_photo)\n",
    "print('{} : {}'.format('Img-1.jpg', resized_first_photo.shape))"
   ]
  },
  {
   "cell_type": "code",
   "execution_count": 28,
   "metadata": {},
   "outputs": [
    {
     "name": "stderr",
     "output_type": "stream",
     "text": [
      "100%|██████████| 13000/13000 [06:40<00:00, 32.42it/s]\n"
     ]
    }
   ],
   "source": [
    "train_img = []\n",
    "for img_path in tqdm(train.Image_id.values):\n",
    "    train_img.append(read_img(TRAIN_PATH + img_path))"
   ]
  },
  {
   "cell_type": "code",
   "execution_count": null,
   "metadata": {},
   "outputs": [],
   "source": [
    "import gc"
   ]
  },
  {
   "cell_type": "code",
   "execution_count": 30,
   "metadata": {},
   "outputs": [],
   "source": [
    "# Convert the image data into an array.\n",
    "# Since the range of color(RGB) is in the range of (0-255).\n",
    "# Hence by dividing each image by 255, we convert the range to (0.0 - 1.0)\n",
    "\n",
    "X_train = np.array(train_img, np.float32) / 255"
   ]
  },
  {
   "cell_type": "code",
   "execution_count": null,
   "metadata": {},
   "outputs": [],
   "source": [
    "del train_img\n",
    "gc.collect()"
   ]
  },
  {
   "cell_type": "code",
   "execution_count": null,
   "metadata": {},
   "outputs": [],
   "source": [
    "mean_img = X_train.mean(axis = 0)\n",
    "std_dev = X_train.std(axis = 0)"
   ]
  },
  {
   "cell_type": "code",
   "execution_count": null,
   "metadata": {},
   "outputs": [],
   "source": [
    "X_norm = (X_train - mean_img)/ std_dev\n",
    "norm_shape = X_norm.shape\n",
    "print(norm_shape)"
   ]
  },
  {
   "cell_type": "code",
   "execution_count": null,
   "metadata": {},
   "outputs": [],
   "source": [
    "del X_train\n",
    "gc.collect()"
   ]
  }
 ],
 "metadata": {
  "kernelspec": {
   "display_name": "Python 3",
   "language": "python",
   "name": "python3"
  },
  "language_info": {
   "codemirror_mode": {
    "name": "ipython",
    "version": 3
   },
   "file_extension": ".py",
   "mimetype": "text/x-python",
   "name": "python",
   "nbconvert_exporter": "python",
   "pygments_lexer": "ipython3",
   "version": "3.7.4"
  }
 },
 "nbformat": 4,
 "nbformat_minor": 4
}
